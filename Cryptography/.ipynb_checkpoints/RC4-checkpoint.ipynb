{
 "cells": [
  {
   "cell_type": "markdown",
   "id": "4c3301c9",
   "metadata": {},
   "source": [
    "# RC4\n",
    "The Jupyter Notebook is an implementation of the Symmetric Stream Cipher, RC4. \n",
    "\n",
    "The algorithm follows two main phases:\n",
    "    - Key-scheduling Algorithm\n",
    "    - Encryption"
   ]
  },
  {
   "cell_type": "markdown",
   "id": "994eda95",
   "metadata": {},
   "source": [
    "## Key-scheduling Algorithm"
   ]
  },
  {
   "cell_type": "code",
   "execution_count": 63,
   "id": "f0b51cef",
   "metadata": {
    "scrolled": false
   },
   "outputs": [],
   "source": [
    "\n",
    "def keySchedulingAlgorithm():\n",
    "    # State-vector Array\n",
    "    stateArray = []\n",
    "    tempArray = []\n",
    "\n",
    "    # Key can be anywhere from 0 to 255 bytes long (N bytes)\n",
    "    key = \"encryptstuffwithme\"\n",
    "    lengthOfKey = len(key.encode('utf-8'))\n",
    "\n",
    "    # Generate a permutation of 256\n",
    "    for digit in range(256):\n",
    "        stateArray.append(digit)\n",
    "        tempArray.append(ord(key[digit%lengthOfKey]))\n",
    "\n",
    "    tempNum = 0\n",
    "    for digit in range(256):\n",
    "        tempNum = (tempNum + stateArray[digit] + tempArray[digit]) % 256\n",
    "        stateArray[digit], stateArray[tempNum] = stateArray[tempNum], stateArray[digit]\n",
    "\n",
    "    return stateArray\n"
   ]
  },
  {
   "cell_type": "markdown",
   "id": "08cf2eaa",
   "metadata": {},
   "source": [
    "## Pseudo-random Generation Algorithm (PRGA)"
   ]
  },
  {
   "cell_type": "code",
   "execution_count": 64,
   "id": "78f49992",
   "metadata": {},
   "outputs": [],
   "source": [
    "def psuedoRandomGenAlgorithm(plaintextList):\n",
    "    p1 = 0\n",
    "    p2 = 0\n",
    "    \n",
    "    keystreamBytes = []\n",
    "    \n",
    "    for j in range(0, len(plaintextList)):\n",
    "        p1 = (p1 + 1) % 256\n",
    "        p2 = (p2 + stateArray[p1]) % 256\n",
    "        stateArray[p1], stateArray[p2] = stateArray[p2], stateArray[p1]\n",
    "        tempVar = (stateArray[p1] + stateArray[p2]) % 256\n",
    "        keystreamBytes.append(stateArray[tempVar])\n",
    "    \n",
    "\n",
    "    return keystreamBytes"
   ]
  },
  {
   "cell_type": "markdown",
   "id": "0c4ad09c",
   "metadata": {},
   "source": [
    "## XOR"
   ]
  },
  {
   "cell_type": "code",
   "execution_count": 65,
   "id": "e3654d69",
   "metadata": {},
   "outputs": [],
   "source": [
    "ciphertext = []\n",
    "\n",
    "def encryptWithXor(keystream, plaintextList):\n",
    "    for i in range(len(plaintextList)):\n",
    "        if i == '':\n",
    "            pass\n",
    "        print(keystream[i], plaintextList[i])\n",
    "        cipherTextByte = int(keystream[i]) ^ int(plaintextList[i])\n",
    "        ciphertext.append(cipherTextByte)"
   ]
  },
  {
   "cell_type": "code",
   "execution_count": 66,
   "id": "10bc4841",
   "metadata": {},
   "outputs": [
    {
     "name": "stdout",
     "output_type": "stream",
     "text": [
      "['101', '011', '110', ''] ['101', '101', '010', '1']\n",
      "190 101\n",
      "29 011\n",
      "147 110\n",
      "221 \n"
     ]
    },
    {
     "ename": "ValueError",
     "evalue": "invalid literal for int() with base 10: ''",
     "output_type": "error",
     "traceback": [
      "\u001b[1;31m---------------------------------------------------------------------------\u001b[0m",
      "\u001b[1;31mValueError\u001b[0m                                Traceback (most recent call last)",
      "\u001b[1;32m~\\AppData\\Local\\Temp/ipykernel_18448/275802656.py\u001b[0m in \u001b[0;36m<module>\u001b[1;34m\u001b[0m\n\u001b[0;32m     17\u001b[0m \u001b[0mstArray\u001b[0m \u001b[1;33m=\u001b[0m \u001b[0mkeySchedulingAlgorithm\u001b[0m\u001b[1;33m(\u001b[0m\u001b[1;33m)\u001b[0m\u001b[1;33m\u001b[0m\u001b[1;33m\u001b[0m\u001b[0m\n\u001b[0;32m     18\u001b[0m \u001b[0mkeystream\u001b[0m \u001b[1;33m=\u001b[0m \u001b[0mpsuedoRandomGenAlgorithm\u001b[0m\u001b[1;33m(\u001b[0m\u001b[0mplaintextList\u001b[0m\u001b[1;33m)\u001b[0m\u001b[1;33m\u001b[0m\u001b[1;33m\u001b[0m\u001b[0m\n\u001b[1;32m---> 19\u001b[1;33m \u001b[0mciphertext\u001b[0m \u001b[1;33m=\u001b[0m \u001b[0mencryptWithXor\u001b[0m\u001b[1;33m(\u001b[0m\u001b[0mkeystream\u001b[0m\u001b[1;33m,\u001b[0m \u001b[0mplaintextList\u001b[0m\u001b[1;33m)\u001b[0m\u001b[1;33m\u001b[0m\u001b[1;33m\u001b[0m\u001b[0m\n\u001b[0m\u001b[0;32m     20\u001b[0m \u001b[0mprint\u001b[0m\u001b[1;33m(\u001b[0m\u001b[0mciphertext\u001b[0m\u001b[1;33m)\u001b[0m\u001b[1;33m\u001b[0m\u001b[1;33m\u001b[0m\u001b[0m\n",
      "\u001b[1;32m~\\AppData\\Local\\Temp/ipykernel_18448/950090206.py\u001b[0m in \u001b[0;36mencryptWithXor\u001b[1;34m(keystream, plaintextList)\u001b[0m\n\u001b[0;32m      6\u001b[0m             \u001b[1;32mpass\u001b[0m\u001b[1;33m\u001b[0m\u001b[1;33m\u001b[0m\u001b[0m\n\u001b[0;32m      7\u001b[0m         \u001b[0mprint\u001b[0m\u001b[1;33m(\u001b[0m\u001b[0mkeystream\u001b[0m\u001b[1;33m[\u001b[0m\u001b[0mi\u001b[0m\u001b[1;33m]\u001b[0m\u001b[1;33m,\u001b[0m \u001b[0mplaintextList\u001b[0m\u001b[1;33m[\u001b[0m\u001b[0mi\u001b[0m\u001b[1;33m]\u001b[0m\u001b[1;33m)\u001b[0m\u001b[1;33m\u001b[0m\u001b[1;33m\u001b[0m\u001b[0m\n\u001b[1;32m----> 8\u001b[1;33m         \u001b[0mcipherTextByte\u001b[0m \u001b[1;33m=\u001b[0m \u001b[0mint\u001b[0m\u001b[1;33m(\u001b[0m\u001b[0mkeystream\u001b[0m\u001b[1;33m[\u001b[0m\u001b[0mi\u001b[0m\u001b[1;33m]\u001b[0m\u001b[1;33m)\u001b[0m \u001b[1;33m^\u001b[0m \u001b[0mint\u001b[0m\u001b[1;33m(\u001b[0m\u001b[0mplaintextList\u001b[0m\u001b[1;33m[\u001b[0m\u001b[0mi\u001b[0m\u001b[1;33m]\u001b[0m\u001b[1;33m)\u001b[0m\u001b[1;33m\u001b[0m\u001b[1;33m\u001b[0m\u001b[0m\n\u001b[0m\u001b[0;32m      9\u001b[0m         \u001b[0mciphertext\u001b[0m\u001b[1;33m.\u001b[0m\u001b[0mappend\u001b[0m\u001b[1;33m(\u001b[0m\u001b[0mcipherTextByte\u001b[0m\u001b[1;33m)\u001b[0m\u001b[1;33m\u001b[0m\u001b[1;33m\u001b[0m\u001b[0m\n",
      "\u001b[1;31mValueError\u001b[0m: invalid literal for int() with base 10: ''"
     ]
    }
   ],
   "source": [
    "plaintext = \"101011110\"\n",
    "key = \"1011010101\"\n",
    "keyLength = len(key)\n",
    "\n",
    "# Number of bytes to consider per cycle\n",
    "n = 3\n",
    "\n",
    "# Break the Plaintext and Key down\n",
    "keyList = [key[i:i + n] for i in range(0, keyLength, n)]\n",
    "for i in range(len(keyList)):\n",
    "    keylist[i] =int(keyList[i], 2)\n",
    "plaintextList = [plaintext[i:i + n] for i in range(0, keyLength, n)]\n",
    "for i in range(len(plaintextList)):\n",
    "    plaintextList[i] =int(plaintextList[i], 2)\n",
    "\n",
    "print(plaintextList, keyList)\n",
    "sizeDiff = len(stateArray) - len(keyList)\n",
    "for i in range(0, sizeDiff):\n",
    "    keyList.append(keyList[i])\n",
    "\n",
    "stArray = keySchedulingAlgorithm()\n",
    "keystream = psuedoRandomGenAlgorithm(plaintextList)\n",
    "ciphertext = encryptWithXor(keystream, plaintextList)\n",
    "print(ciphertext)"
   ]
  }
 ],
 "metadata": {
  "kernelspec": {
   "display_name": "Python 3 (ipykernel)",
   "language": "python",
   "name": "python3"
  },
  "language_info": {
   "codemirror_mode": {
    "name": "ipython",
    "version": 3
   },
   "file_extension": ".py",
   "mimetype": "text/x-python",
   "name": "python",
   "nbconvert_exporter": "python",
   "pygments_lexer": "ipython3",
   "version": "3.9.6"
  }
 },
 "nbformat": 4,
 "nbformat_minor": 5
}

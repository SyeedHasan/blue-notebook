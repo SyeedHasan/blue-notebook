{
 "cells": [
  {
   "cell_type": "markdown",
   "id": "2552010c",
   "metadata": {},
   "source": [
    "# RC4\n",
    "The Jupyter Notebook is an implementation of the Symmetric Stream Cipher, RC4. \n",
    "\n",
    "The algorithm follows two main phases:\n",
    "    - Key-scheduling Algorithm\n",
    "    - Encryption"
   ]
  },
  {
   "cell_type": "markdown",
   "id": "091d3969",
   "metadata": {},
   "source": [
    "## Key-scheduling Algorithm"
   ]
  },
  {
   "cell_type": "code",
   "execution_count": 71,
   "id": "3d2be265",
   "metadata": {
    "scrolled": false
   },
   "outputs": [],
   "source": [
    "\n",
    "def keySchedulingAlgorithm():\n",
    "    # State-vector Array\n",
    "    stateArray = []\n",
    "    tempArray = []\n",
    "\n",
    "    # Key can be anywhere from 0 to 255 bytes long (N bytes)\n",
    "    key = \"encryptstuffwithme\"\n",
    "    lengthOfKey = len(key.encode('utf-8'))\n",
    "\n",
    "    # Generate a permutation of 256\n",
    "    for digit in range(256):\n",
    "        stateArray.append(digit)\n",
    "        tempArray.append(ord(key[digit%lengthOfKey]))\n",
    "\n",
    "    tempNum = 0\n",
    "    for digit in range(256):\n",
    "        tempNum = (tempNum + stateArray[digit] + tempArray[digit]) % 256\n",
    "        stateArray[digit], stateArray[tempNum] = stateArray[tempNum], stateArray[digit]\n",
    "\n",
    "    return stateArray\n"
   ]
  },
  {
   "cell_type": "markdown",
   "id": "4f000722",
   "metadata": {},
   "source": [
    "## Pseudo-random Generation Algorithm (PRGA)"
   ]
  },
  {
   "cell_type": "code",
   "execution_count": 72,
   "id": "a18cf206",
   "metadata": {},
   "outputs": [],
   "source": [
    "def psuedoRandomGenAlgorithm(plaintextList):\n",
    "    p1 = 0\n",
    "    p2 = 0\n",
    "    \n",
    "    keystreamBytes = []\n",
    "    \n",
    "    for j in range(0, len(plaintextList)):\n",
    "        p1 = (p1 + 1) % 256\n",
    "        p2 = (p2 + stateArray[p1]) % 256\n",
    "        stateArray[p1], stateArray[p2] = stateArray[p2], stateArray[p1]\n",
    "        tempVar = (stateArray[p1] + stateArray[p2]) % 256\n",
    "        keystreamBytes.append(stateArray[tempVar])\n",
    "    \n",
    "\n",
    "    return keystreamBytes"
   ]
  },
  {
   "cell_type": "markdown",
   "id": "81c2eb5d",
   "metadata": {},
   "source": [
    "## XOR"
   ]
  },
  {
   "cell_type": "code",
   "execution_count": 73,
   "id": "6a5be335",
   "metadata": {},
   "outputs": [],
   "source": [
    "ciphertext = []\n",
    "\n",
    "def encryptWithXor(keystream, plaintextList):\n",
    "    for i in range(len(plaintextList)):\n",
    "        if i == '':\n",
    "            pass\n",
    "        print(keystream[i], plaintextList[i])\n",
    "        cipherTextByte = int(keystream[i]) ^ int(plaintextList[i])\n",
    "        ciphertext.append(cipherTextByte)"
   ]
  },
  {
   "cell_type": "code",
   "execution_count": 74,
   "id": "63b62a6e",
   "metadata": {},
   "outputs": [
    {
     "ename": "ValueError",
     "evalue": "invalid literal for int() with base 2: ''",
     "output_type": "error",
     "traceback": [
      "\u001b[1;31m---------------------------------------------------------------------------\u001b[0m",
      "\u001b[1;31mValueError\u001b[0m                                Traceback (most recent call last)",
      "\u001b[1;32m~\\AppData\\Local\\Temp/ipykernel_18448/2632092743.py\u001b[0m in \u001b[0;36m<module>\u001b[1;34m\u001b[0m\n\u001b[0;32m     12\u001b[0m \u001b[0mplaintextList\u001b[0m \u001b[1;33m=\u001b[0m \u001b[1;33m[\u001b[0m\u001b[0mplaintext\u001b[0m\u001b[1;33m[\u001b[0m\u001b[0mi\u001b[0m\u001b[1;33m:\u001b[0m\u001b[0mi\u001b[0m \u001b[1;33m+\u001b[0m \u001b[0mn\u001b[0m\u001b[1;33m]\u001b[0m \u001b[1;32mfor\u001b[0m \u001b[0mi\u001b[0m \u001b[1;32min\u001b[0m \u001b[0mrange\u001b[0m\u001b[1;33m(\u001b[0m\u001b[1;36m0\u001b[0m\u001b[1;33m,\u001b[0m \u001b[0mkeyLength\u001b[0m\u001b[1;33m,\u001b[0m \u001b[0mn\u001b[0m\u001b[1;33m)\u001b[0m\u001b[1;33m]\u001b[0m\u001b[1;33m\u001b[0m\u001b[1;33m\u001b[0m\u001b[0m\n\u001b[0;32m     13\u001b[0m \u001b[1;32mfor\u001b[0m \u001b[0mi\u001b[0m \u001b[1;32min\u001b[0m \u001b[0mrange\u001b[0m\u001b[1;33m(\u001b[0m\u001b[0mlen\u001b[0m\u001b[1;33m(\u001b[0m\u001b[0mplaintextList\u001b[0m\u001b[1;33m)\u001b[0m\u001b[1;33m)\u001b[0m\u001b[1;33m:\u001b[0m\u001b[1;33m\u001b[0m\u001b[1;33m\u001b[0m\u001b[0m\n\u001b[1;32m---> 14\u001b[1;33m     \u001b[0mplaintextList\u001b[0m\u001b[1;33m[\u001b[0m\u001b[0mi\u001b[0m\u001b[1;33m]\u001b[0m \u001b[1;33m=\u001b[0m\u001b[0mint\u001b[0m\u001b[1;33m(\u001b[0m\u001b[0mplaintextList\u001b[0m\u001b[1;33m[\u001b[0m\u001b[0mi\u001b[0m\u001b[1;33m]\u001b[0m\u001b[1;33m,\u001b[0m \u001b[1;36m2\u001b[0m\u001b[1;33m)\u001b[0m\u001b[1;33m\u001b[0m\u001b[1;33m\u001b[0m\u001b[0m\n\u001b[0m\u001b[0;32m     15\u001b[0m \u001b[1;33m\u001b[0m\u001b[0m\n\u001b[0;32m     16\u001b[0m \u001b[0mprint\u001b[0m\u001b[1;33m(\u001b[0m\u001b[0mplaintextList\u001b[0m\u001b[1;33m,\u001b[0m \u001b[0mkeyList\u001b[0m\u001b[1;33m)\u001b[0m\u001b[1;33m\u001b[0m\u001b[1;33m\u001b[0m\u001b[0m\n",
      "\u001b[1;31mValueError\u001b[0m: invalid literal for int() with base 2: ''"
     ]
    }
   ],
   "source": [
    "plaintext = \"101011110\"\n",
    "key = \"1011010101\"\n",
    "keyLength = len(key)\n",
    "\n",
    "# Number of bytes to consider per cycle\n",
    "n = 3\n",
    "\n",
    "# Break the Plaintext and Key down\n",
    "keyList = [key[i:i + n] for i in range(0, keyLength, n)]\n",
    "for i in range(len(keyList)):\n",
    "    if keyList[i] != '':\n",
    "        keyList[i] =int(keyList[i], 2)\n",
    "plaintextList = [plaintext[i:i + n] for i in range(0, keyLength, n)]\n",
    "for i in range(len(plaintextList)):\n",
    "    if plaintextList[i] != '':\n",
    "    plaintextList[i] =int(plaintextList[i], 2)\n",
    "\n",
    "print(plaintextList, keyList)\n",
    "sizeDiff = len(stateArray) - len(keyList)\n",
    "for i in range(0, sizeDiff):\n",
    "    keyList.append(keyList[i])\n",
    "\n",
    "stArray = keySchedulingAlgorithm()\n",
    "keystream = psuedoRandomGenAlgorithm(plaintextList)\n",
    "ciphertext = encryptWithXor(keystream, plaintextList)\n",
    "print(ciphertext)"
   ]
  }
 ],
 "metadata": {
  "kernelspec": {
   "display_name": "Python 3 (ipykernel)",
   "language": "python",
   "name": "python3"
  },
  "language_info": {
   "codemirror_mode": {
    "name": "ipython",
    "version": 3
   },
   "file_extension": ".py",
   "mimetype": "text/x-python",
   "name": "python",
   "nbconvert_exporter": "python",
   "pygments_lexer": "ipython3",
   "version": "3.9.6"
  }
 },
 "nbformat": 4,
 "nbformat_minor": 5
}

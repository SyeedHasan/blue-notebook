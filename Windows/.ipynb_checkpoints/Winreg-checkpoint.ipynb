{
 "cells": [
  {
   "cell_type": "markdown",
   "id": "995f1902",
   "metadata": {},
   "source": [
    "## Accessing Registry via Python"
   ]
  },
  {
   "cell_type": "code",
   "execution_count": null,
   "id": "3ee92a3e",
   "metadata": {},
   "outputs": [],
   "source": [
    "# Imports \n",
    "from winreg import (\n",
    "  ConnectRegistry,\n",
    "  OpenKey,\n",
    "  EnumValue,\n",
    "  EnumKey,\n",
    "  QueryInfoKey,\n",
    "  KEY_ALL_ACCESS,\n",
    "  HKEY_LOCAL_MACHINE,\n",
    "  HKEY_CURRENT_USER\n",
    ")"
   ]
  },
  {
   "cell_type": "code",
   "execution_count": null,
   "id": "94f3d59a",
   "metadata": {},
   "outputs": [],
   "source": [
    "# Accesses a registry key and loops over first-order child keys\n",
    "def accessRegKey(hive, regKey):\n",
    "    with OpenKey(hive, regKey, 0, KEY_ALL_ACCESS) as parentKey:\n",
    "        numOfValues = QueryInfoKey(parentKey)[1]\n",
    "        print(\"Parent Key's Values:\")\n",
    "        enumerateRegValues(parentKey, numOfValues)\n",
    "\n",
    "        print()\n",
    "        print(\"Subkeys:\")\n",
    "\n",
    "        numOfSubkeys = QueryInfoKey(parentKey)[0]\n",
    "        for count in range(numOfSubkeys):\n",
    "            subKey = EnumKey(parentKey, count)\n",
    "            print(\"Subkey:\", f\"{regKey}\\\\{subKey}\")\n",
    "            childKey = OpenKey(parentKey, subKey)\n",
    "            subkeyValues = QueryInfoKey(childKey)[1]\n",
    "            if subkeyValues != 0:\n",
    "                print(\"Subkey Values:\")\n",
    "                enumerateRegValues(childKey, QueryInfoKey(childKey)[1])\n",
    "            print()"
   ]
  },
  {
   "cell_type": "code",
   "execution_count": null,
   "id": "3066e8be",
   "metadata": {},
   "outputs": [],
   "source": [
    "# Enumerates values from a registry key and prints them to the console\n",
    "def enumerateRegValues(key, count):\n",
    "    for i in range(count):\n",
    "        values = EnumValue(key, i)\n",
    "        print(values)"
   ]
  },
  {
   "cell_type": "code",
   "execution_count": null,
   "id": "92aded3a",
   "metadata": {
    "scrolled": false
   },
   "outputs": [],
   "source": [
    "registryKey = r\"SOFTWARE\\Microsoft\"\n",
    "\n",
    "with ConnectRegistry(None, HKEY_LOCAL_MACHINE) as hive:\n",
    "    accessRegKey(hive, registryKey)"
   ]
  }
 ],
 "metadata": {
  "kernelspec": {
   "display_name": "Python 3",
   "language": "python",
   "name": "python3"
  },
  "language_info": {
   "codemirror_mode": {
    "name": "ipython",
    "version": 3
   },
   "file_extension": ".py",
   "mimetype": "text/x-python",
   "name": "python",
   "nbconvert_exporter": "python",
   "pygments_lexer": "ipython3",
   "version": "3.9.4"
  }
 },
 "nbformat": 4,
 "nbformat_minor": 5
}
